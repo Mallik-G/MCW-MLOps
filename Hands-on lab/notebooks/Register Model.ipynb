{
  "cells": [
    {
      "metadata": {},
      "cell_type": "markdown",
      "source": "## Setup\nTo begin, you will need to provide the following information about your Azure Subscription.\n\n**If you are using your own Azure subscription, please provide names for subscription_id, resource_group, workspace_name and workspace_region to use.** Note that the workspace needs to be of type [Machine Learning Workspace](https://docs.microsoft.com/en-us/azure/machine-learning/service/setup-create-workspace).\n\n**If an environment is provided to you be sure to replace XXXXX in the values below with your unique identifier.**\n\nIn the following cell, be sure to set the values for `subscription_id`, `resource_group`, `workspace_name` and `workspace_region` as directed by the comments (*these values can be acquired from the Azure Portal*).\n\nTo get these values, do the following:\n1. Navigate to the Azure Portal and login with the credentials provided.\n2. From the left hand menu, under Favorites, select `Resource Groups`.\n3. In the list, select the resource group with the name similar to `XXXXX`.\n4. From the Overview tab, capture the desired values.\n\nExecute the following cell by selecting the `>|Run` button in the command bar above."
    },
    {
      "metadata": {
        "trusted": true
      },
      "cell_type": "code",
      "source": "#Provide the Subscription ID of your existing Azure subscription\nsubscription_id = \"\" # <- needs to be the subscription with the Quick-Starts resource group\n\n#Provide values for the existing Resource Group \nresource_group = \"Quick-Starts-XXXXX\" # <- replace XXXXX with your unique identifier\n\n#Provide the Workspace Name and Azure Region of the Azure Machine Learning Workspace\nworkspace_name = \"quick-starts-ws-XXXXX\" # <- replace XXXXX with your unique identifier\nworkspace_region = \"eastus\" # <- region of your Quick-Starts resource group\n\nexperiment_name = 'deep-learning'",
      "execution_count": 1,
      "outputs": []
    },
    {
      "metadata": {},
      "cell_type": "markdown",
      "source": "### Create and connect to an Azure Machine Learning Workspace\n\nRun the following cell to create a new Azure Machine Learning **Workspace**.\n\n**Important Note**: You will be prompted to login in the text that is output below the cell. Be sure to navigate to the URL displayed and enter the code that is provided. Once you have entered the code, return to this notebook and wait for the output to read `Workspace configuration succeeded`."
    },
    {
      "metadata": {
        "trusted": true
      },
      "cell_type": "code",
      "source": "from azureml.core import Workspace, Experiment, Run\n\nws = Workspace.create(\n    name = workspace_name,\n    subscription_id = subscription_id,\n    resource_group = resource_group, \n    location = workspace_region,\n    exist_ok = True)\n\nws.write_config()\nprint('Workspace configuration succeeded')",
      "execution_count": 3,
      "outputs": [
        {
          "output_type": "stream",
          "text": "Workspace configuration succeeded\n",
          "name": "stdout"
        }
      ]
    },
    {
      "metadata": {},
      "cell_type": "markdown",
      "source": "## Get the Model Training Run\n\n**Load the run_info.json file that has the run id for the model training run**"
    },
    {
      "metadata": {
        "trusted": true
      },
      "cell_type": "code",
      "source": "import os\nimport json\n\noutput_path = './outputs'\n\nrun_info_filepath = os.path.join(output_path, 'run_info.json')\n\ntry:\n    with open(run_info_filepath) as f:\n        run_info = json.load(f)\n        print('run_info.json loaded')\n        print(run_info)\nexcept:\n    print(\"Cannot open: \", run_info_filepath)\n    print(\"Please fix output_path before proceeding!\")",
      "execution_count": 4,
      "outputs": [
        {
          "output_type": "stream",
          "text": "run_info.json loaded\n{'id': 'deep-learning_1562005774_5e787bcf'}\n",
          "name": "stdout"
        }
      ]
    },
    {
      "metadata": {},
      "cell_type": "markdown",
      "source": "**Get the Run object from the run id**"
    },
    {
      "metadata": {
        "trusted": true
      },
      "cell_type": "code",
      "source": "run = Run(Experiment(ws, experiment_name), run_info['id'])",
      "execution_count": 5,
      "outputs": []
    },
    {
      "metadata": {},
      "cell_type": "markdown",
      "source": "## Register Model"
    },
    {
      "metadata": {},
      "cell_type": "markdown",
      "source": "**Register the Model with Azure Model Registry**"
    },
    {
      "metadata": {
        "trusted": true
      },
      "cell_type": "code",
      "source": "model_name = 'compliance-classifier'\nmodel_description = 'Deep learning model to classify the descriptions of car components as compliant or non-compliant.'\n\nmodel_run = run.register_model(model_name=model_name,  \n                               model_path=\"outputs/model/model.h5\",\n                               tags={\"type\": \"classification\", \"description\": model_description, \"run_id\": run.id})\n\nprint(\"Model Registered: {} \\nModel Description: {} \\nModel Version: {}\".format(model_run.name, \n                                                                                model_run.tags[\"description\"], model_run.version))",
      "execution_count": 10,
      "outputs": [
        {
          "output_type": "stream",
          "text": "Model Registered: compliance-classifier \nModel Description: Deep learning model to classify the descriptions of car components as compliant or non-compliant. \nModel Version: 15\n",
          "name": "stdout"
        }
      ]
    },
    {
      "metadata": {
        "trusted": true
      },
      "cell_type": "code",
      "source": "",
      "execution_count": null,
      "outputs": []
    }
  ],
  "metadata": {
    "kernelspec": {
      "name": "python36",
      "display_name": "Python 3.6",
      "language": "python"
    },
    "language_info": {
      "mimetype": "text/x-python",
      "nbconvert_exporter": "python",
      "name": "python",
      "pygments_lexer": "ipython3",
      "version": "3.6.6",
      "file_extension": ".py",
      "codemirror_mode": {
        "version": 3,
        "name": "ipython"
      }
    }
  },
  "nbformat": 4,
  "nbformat_minor": 1
}